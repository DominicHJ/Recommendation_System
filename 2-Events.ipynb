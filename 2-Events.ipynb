{
 "cells": [
  {
   "cell_type": "markdown",
   "metadata": {},
   "source": [
    "# 对活动数据进行分析\n",
    "（只取训练集和测试集中出现的样本）\n",
    "\n",
    "数据来源于Kaggle竞赛：Event Recommendation Engine Challenge，根据\n",
    "    events they’ve responded to in the past\n",
    "    user demographic information\n",
    "    what events they’ve seen and clicked on in our app\n",
    "预测用户对某个活动是否感兴趣\n",
    "\n",
    "竞赛官网：\n",
    "https://www.kaggle.com/c/event-recommendation-engine-challenge/data\n",
    "\n",
    "\n",
    "活动描述信息在events.csv文件：共110维特征\n",
    "前9列：event_id, user_id, start_time, city, state, zip, country, lat, and lng.\n",
    "event_id：id of the event, \n",
    "user_id：id of the user who created the event.  \n",
    "city, state, zip, and country： more details about the location of the venue (if known).\n",
    "lat and lng： floats（latitude and longitude coordinates of the venue）\n",
    "start_time： 字符串，ISO-8601 UTC time，表示活动开始时间\n",
    "\n",
    "后101列为词频：count_1, count_2, ..., count_100，count_other\n",
    "count_N：活动描述出现第N个词的次数\n",
    "count_other：除了最常用的100个词之外的其余词出现的次数\n",
    "\n",
    "这里我们用count_1, count_2, ..., count_100，count_other属性做聚类，即活动用这些关键词来描述，可表示活动的类别"
   ]
  },
  {
   "cell_type": "markdown",
   "metadata": {},
   "source": [
    "# 导入工具包"
   ]
  },
  {
   "cell_type": "code",
   "execution_count": 1,
   "metadata": {},
   "outputs": [],
   "source": [
    "#数据量太大，pdandas不能一次讲所有数据读入\n",
    "#也可以用pandas,一次读取部分数据，可以参考：https://www.cnblogs.com/datablog/p/6127000.html\n",
    "#import pandas as pd\n",
    "\n",
    "import numpy as np\n",
    "import scipy.sparse as ss\n",
    "import scipy.io as sio\n",
    "\n",
    "#保存数据\n",
    "import pickle\n",
    "\n",
    "#event的特征需要编码\n",
    "from utils import FeatureEng\n",
    "from sklearn.preprocessing import normalize\n",
    "#相似度/距离\n",
    "import scipy.spatial.distance as ssd"
   ]
  },
  {
   "cell_type": "markdown",
   "metadata": {},
   "source": [
    "# 统计活动数目"
   ]
  },
  {
   "cell_type": "code",
   "execution_count": 2,
   "metadata": {},
   "outputs": [
    {
     "name": "stdout",
     "output_type": "stream",
     "text": [
      "['1373240562', '3334738518', '2013-02-14T20:00:00.002Z', '', '', '', '', '', '', '0', ' 0', ' 0', ' 0', ' 0', ' 0', ' 0', ' 0', ' 0', ' 0', ' 0', ' 0', ' 0', ' 0', ' 0', ' 0', ' 0', ' 0', ' 0', ' 0', ' 0', ' 0', ' 0', ' 0', ' 0', ' 0', ' 0', ' 0', ' 0', ' 0', ' 0', ' 0', ' 0', ' 0', ' 0', ' 0', ' 0', ' 0', ' 0', ' 0', ' 0', ' 0', ' 0', ' 0', ' 0', ' 0', ' 0', ' 0', ' 0', ' 0', ' 0', ' 0', ' 0', ' 0', ' 0', ' 0', ' 0', ' 0', ' 0', ' 0', ' 0', ' 0', ' 0', ' 0', ' 0', ' 0', ' 0', ' 0', ' 0', ' 0', ' 0', ' 0', ' 0', ' 0', ' 0', ' 0', ' 0', ' 0', ' 0', ' 0', ' 0', ' 0', ' 0', ' 0', ' 0', ' 0', ' 0', ' 0', ' 0', ' 0', ' 0', ' 0', ' 0', ' 0', ' 0', ' 0', ' 0', ' 0', ' 0', ' 0', '1']\n",
      "number of records :3137972\n"
     ]
    }
   ],
   "source": [
    "#读取数据，并统计有多少不同的events\n",
    "#其实EDA.ipynb中用read_csv已经统计过了\n",
    "lines = 0\n",
    "fin = open(\"events.csv\", 'r')\n",
    "#找到用C/C++的感觉了\n",
    "#字段：event_id, user_id,start_time, city, state, zip, country, lat, and lng， 101 columns of words count\n",
    "fin.readline() # skip header，列名行\n",
    "for line in fin:\n",
    "    cols = line.strip().split(\",\")\n",
    "    lines += 1\n",
    "fin.close()\n",
    "print(cols)\n",
    "\n",
    "print(\"number of records :%d\" % lines)"
   ]
  },
  {
   "cell_type": "markdown",
   "metadata": {},
   "source": [
    "活动数目太多（300w+），训练+测试集的活动没这么多，所有先去处理train和test，得到竞赛需要用到的活动和用户\n",
    "然后对在训练集和测试集中出现过的活动和用户建立新的ID索引\n",
    "先运行user_event.ipynb,\n",
    "得到活动列表文件：PE_eventIndex.pkl"
   ]
  },
  {
   "cell_type": "markdown",
   "metadata": {},
   "source": [
    "# 读取之前算好的测试集和训练集中出现过的活动\n",
    "详见user_event.ipynb"
   ]
  },
  {
   "cell_type": "code",
   "execution_count": 3,
   "metadata": {},
   "outputs": [
    {
     "name": "stdout",
     "output_type": "stream",
     "text": [
      "number of events in train & test :13418\n"
     ]
    }
   ],
   "source": [
    "#读取训练集和测试集中出现过的活动列表\n",
    "eventIndex = pickle.load(open(\"PE_eventIndex.pkl\", 'rb'))\n",
    "n_events = len(eventIndex)\n",
    "\n",
    "print(\"number of events in train & test :%d\" % n_events)"
   ]
  },
  {
   "cell_type": "markdown",
   "metadata": {},
   "source": [
    "# 处理events.csv --> 特征编码、活动之间的相似度"
   ]
  },
  {
   "cell_type": "code",
   "execution_count": 8,
   "metadata": {},
   "outputs": [],
   "source": [
    "FE = FeatureEng()\n",
    "\n",
    "fin = open(\"events.csv\", 'r')\n",
    "\n",
    "#字段：event_id, user_id,start_time, city, state, zip, country, lat, and lng， 101 columns of words count\n",
    "fin.readline() # skip header\n",
    "\n",
    "#start_time, city, state, zip, country, lat, and lng\n",
    "eventPropMatrix = ss.dok_matrix((n_events, 7))\n",
    "\n",
    "#词频特征\n",
    "eventContMatrix = ss.dok_matrix((n_events, 101))\n",
    "\n",
    "for line in fin.readlines():\n",
    "    cols = line.strip().split(\",\")\n",
    "    eventId = str(cols[0])\n",
    "    \n",
    "    #if eventIndex.has_key(eventId):  #在训练集或测试集中出现  python2 的语法\n",
    "    if eventId in eventIndex:  #在训练集或测试集中出现\n",
    "        i = eventIndex[eventId]\n",
    "  \n",
    "        #event的特征编码，这里只是简单处理，其实开始时间，地点等信息很重要\n",
    "        eventPropMatrix[i, 0] = FE.getJoinedYearMonth(cols[2]) # start_time\n",
    "        eventPropMatrix[i, 1] = FE.getFeatureHash(cols[3].encode(\"utf8\")) # city\n",
    "        eventPropMatrix[i, 2] = FE.getFeatureHash(cols[4].encode(\"utf8\")) # state\n",
    "        eventPropMatrix[i, 3] = FE.getFeatureHash(cols[5].encode(\"utf8\")) # zip\n",
    "        eventPropMatrix[i, 4] = FE.getFeatureHash(cols[6].encode(\"utf8\")) # country\n",
    "        eventPropMatrix[i, 5] = FE.getFloatValue(cols[7]) # lat\n",
    "        eventPropMatrix[i, 6] = FE.getFloatValue(cols[8]) # lon\n",
    "        \n",
    "        #词频\n",
    "        for j in range(9, 110):\n",
    "            eventContMatrix[i, j-9] = cols[j]\n",
    "fin.close()\n",
    "\n",
    "#用L2模归一化\n",
    "eventPropMatrix = normalize(eventPropMatrix,\n",
    "    norm=\"l2\", axis=0, copy=False)\n",
    "sio.mmwrite(\"EV_eventPropMatrix\", eventPropMatrix)\n",
    "\n",
    "#词频，可以考虑我们用这部分特征进行聚类，得到活动的genre\n",
    "eventContMatrix = normalize(eventContMatrix,\n",
    "    norm=\"l2\", axis=0, copy=False)\n",
    "sio.mmwrite(\"EV_eventContMatrix\", eventContMatrix)\n",
    "\n",
    "\n",
    "# calculate similarity between event pairs based on the two matrices\n",
    "eventPropSim = ss.dok_matrix((n_events, n_events))\n",
    "eventContSim = ss.dok_matrix((n_events, n_events))\n",
    "\n",
    "#读取在测试集和训练集中出现的活动对\n",
    "uniqueEventPairs = pickle.load(open(\"PE_uniqueEventPairs.pkl\", 'rb'))\n",
    "\n",
    "for e1, e2 in uniqueEventPairs:\n",
    "    #i = eventIndex[e1]\n",
    "    #j = eventIndex[e2]\n",
    "    i = e1\n",
    "    j = e2\n",
    "    \n",
    "    #非词频特征，采用Person相关系数作为相似度\n",
    "    #if not eventPropSim.has_key((i,j)):\n",
    "    if not (i,j) in eventPropSim:\n",
    "        epsim = ssd.correlation(eventPropMatrix.getrow(i).todense(),\n",
    "            eventPropMatrix.getrow(j).todense())\n",
    "        \n",
    "        eventPropSim[i, j] = epsim\n",
    "        eventPropSim[j, i] = epsim\n",
    "    \n",
    "    #对词频特征，采用余弦相似度，也可以用直方图交/Jacard相似度\n",
    "    #if not eventContSim.has_key((i,j)):\n",
    "    if not (i,j) in eventContSim:\n",
    "        ecsim = ssd.cosine(eventContMatrix.getrow(i).todense(),\n",
    "            eventContMatrix.getrow(j).todense())\n",
    "    \n",
    "        eventContSim[i, j] = epsim\n",
    "        eventContSim[j, i] = epsim\n",
    "    \n",
    "sio.mmwrite(\"EV_eventPropSim\", eventPropSim)\n",
    "sio.mmwrite(\"EV_eventContSim\", eventContSim)"
   ]
  },
  {
   "cell_type": "code",
   "execution_count": 9,
   "metadata": {},
   "outputs": [
    {
     "data": {
      "text/plain": [
       "matrix([[0., 0., 0., ..., 0., 0., 0.]])"
      ]
     },
     "execution_count": 9,
     "metadata": {},
     "output_type": "execute_result"
    }
   ],
   "source": [
    "eventPropSim.getrow(0).todense()"
   ]
  },
  {
   "cell_type": "code",
   "execution_count": 10,
   "metadata": {},
   "outputs": [
    {
     "name": "stdout",
     "output_type": "stream",
     "text": [
      "7976 11674\n"
     ]
    }
   ],
   "source": [
    "print(e1,e2)"
   ]
  },
  {
   "cell_type": "code",
   "execution_count": 11,
   "metadata": {},
   "outputs": [
    {
     "name": "stdout",
     "output_type": "stream",
     "text": [
      "  (9987, 11960)\t0.5922860756125148\n",
      "  (11960, 9987)\t0.5922860756125148\n",
      "  (9475, 8556)\t1.0840521935022833\n",
      "  (8556, 9475)\t1.0840521935022833\n",
      "  (10782, 5359)\t0.8768488435616606\n",
      "  (5359, 10782)\t0.8768488435616606\n",
      "  (4522, 8619)\t1.0324888141036443\n",
      "  (8619, 4522)\t1.0324888141036443\n",
      "  (2324, 7961)\t0.8071839337158427\n",
      "  (7961, 2324)\t0.8071839337158427\n",
      "  (11101, 8094)\t0.0001434449671897653\n",
      "  (8094, 11101)\t0.0001434449671897653\n",
      "  (10088, 12203)\t0.9355518787338608\n",
      "  (12203, 10088)\t0.9355518787338608\n",
      "  (12130, 1815)\t1.01362186350775\n",
      "  (1815, 12130)\t1.01362186350775\n",
      "  (5505, 5510)\t0.9522807253464107\n",
      "  (5510, 5505)\t0.9522807253464107\n",
      "  (8138, 9972)\t0.9297215306496674\n",
      "  (9972, 8138)\t0.9297215306496674\n",
      "  (9665, 4806)\t1.7598145163333356e-12\n",
      "  (4806, 9665)\t1.7598145163333356e-12\n",
      "  (4257, 3146)\t1.0135374863373015\n",
      "  (3146, 4257)\t1.0135374863373015\n",
      "  (9121, 7275)\t0.3136994245946758\n",
      "  :\t:\n",
      "  (1744, 2629)\t0.008353706533611893\n",
      "  (9109, 3035)\t0.006625727610589216\n",
      "  (3035, 9109)\t0.006625727610589216\n",
      "  (1973, 737)\t0.5244769126110209\n",
      "  (737, 1973)\t0.5244769126110209\n",
      "  (2691, 10120)\t0.8266348527720409\n",
      "  (10120, 2691)\t0.8266348527720409\n",
      "  (13312, 9264)\t0.5001171829875151\n",
      "  (9264, 13312)\t0.5001171829875151\n",
      "  (10284, 1265)\t0.9289622607011192\n",
      "  (1265, 10284)\t0.9289622607011192\n",
      "  (7053, 8722)\t0.012030917863030122\n",
      "  (8722, 7053)\t0.012030917863030122\n",
      "  (6631, 8938)\t0.013278190889887576\n",
      "  (8938, 6631)\t0.013278190889887576\n",
      "  (1714, 8434)\t0.8131942361233575\n",
      "  (8434, 1714)\t0.8131942361233575\n",
      "  (7905, 10653)\t1.0382823481720622\n",
      "  (10653, 7905)\t1.0382823481720622\n",
      "  (8240, 7128)\t1.0181772049336493\n",
      "  (7128, 8240)\t1.0181772049336493\n",
      "  (7886, 13079)\t0.615221664955307\n",
      "  (13079, 7886)\t0.615221664955307\n",
      "  (7976, 11674)\t1.6501777833077824e-08\n",
      "  (11674, 7976)\t1.6501777833077824e-08\n"
     ]
    }
   ],
   "source": [
    "print(eventPropSim)"
   ]
  },
  {
   "cell_type": "code",
   "execution_count": 12,
   "metadata": {},
   "outputs": [
    {
     "name": "stdout",
     "output_type": "stream",
     "text": [
      "  (8255, 0)\t0.008591382007347012\n",
      "  (9156, 0)\t0.008844069713445453\n",
      "  (1058, 0)\t0.008844069713445453\n",
      "  (3929, 0)\t0.008591382007347012\n",
      "  (11114, 0)\t0.00833869430124857\n",
      "  (2512, 0)\t0.008844069713445453\n",
      "  (622, 0)\t0.008844069713445453\n",
      "  (9979, 0)\t0.008591382007347012\n",
      "  (12854, 0)\t0.008591382007347012\n",
      "  (9431, 0)\t0.008591382007347012\n",
      "  (7672, 0)\t0.008844069713445453\n",
      "  (10446, 0)\t0.008086006595150129\n",
      "  (5551, 0)\t0.008844069713445453\n",
      "  (934, 0)\t0.009096757419543895\n",
      "  (10038, 0)\t0.008086006595150129\n",
      "  (9952, 0)\t0.008086006595150129\n",
      "  (11397, 0)\t0.008591382007347012\n",
      "  (11561, 0)\t0.008844069713445453\n",
      "  (694, 0)\t0.008844069713445453\n",
      "  (12160, 0)\t0.00833869430124857\n",
      "  (12625, 0)\t0.00833869430124857\n",
      "  (4760, 0)\t0.008591382007347012\n",
      "  (12033, 0)\t0.008844069713445453\n",
      "  (8474, 0)\t0.008591382007347012\n",
      "  (8257, 0)\t0.008591382007347012\n",
      "  :\t:\n",
      "  (11559, 6)\t0.00022266477771758144\n",
      "  (10463, 6)\t-0.00908034686010137\n",
      "  (12068, 6)\t-0.013845934738009607\n",
      "  (9689, 6)\t-0.014267160802005031\n",
      "  (3366, 6)\t0.012781051846781175\n",
      "  (11058, 6)\t-0.013843945614929628\n",
      "  (13036, 6)\t-0.00978473044489372\n",
      "  (1326, 6)\t0.0125024576083442\n",
      "  (4008, 6)\t-0.014320984132404447\n",
      "  (2558, 6)\t0.012496022210144269\n",
      "  (3644, 6)\t-0.010475190168126218\n",
      "  (9513, 6)\t0.012277335678586644\n",
      "  (9934, 6)\t-0.009312489224258848\n",
      "  (1799, 6)\t0.008689425671265617\n",
      "  (4712, 6)\t-0.008655376564425986\n",
      "  (4700, 6)\t0.006732011553326877\n",
      "  (10680, 6)\t0.012504563738664176\n",
      "  (3374, 6)\t0.013194906454656678\n",
      "  (2616, 6)\t-0.011435936615755784\n",
      "  (8265, 6)\t-0.012960306938459227\n",
      "  (4432, 6)\t-0.014406048395883523\n",
      "  (209, 6)\t-0.013796323668250145\n",
      "  (1240, 6)\t-0.009411360342057775\n",
      "  (13202, 6)\t-2.2348382839757255e-05\n",
      "  (6429, 6)\t-0.013837159195009703\n"
     ]
    }
   ],
   "source": [
    "print(eventPropMatrix)"
   ]
  },
  {
   "cell_type": "code",
   "execution_count": null,
   "metadata": {
    "collapsed": true
   },
   "outputs": [],
   "source": []
  }
 ],
 "metadata": {
  "kernelspec": {
   "display_name": "Python 3",
   "language": "python",
   "name": "python3"
  },
  "language_info": {
   "codemirror_mode": {
    "name": "ipython",
    "version": 3
   },
   "file_extension": ".py",
   "mimetype": "text/x-python",
   "name": "python",
   "nbconvert_exporter": "python",
   "pygments_lexer": "ipython3",
   "version": "3.6.5"
  }
 },
 "nbformat": 4,
 "nbformat_minor": 2
}
