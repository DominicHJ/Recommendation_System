{
 "cells": [
  {
   "cell_type": "markdown",
   "metadata": {},
   "source": [
    "# 用户数据处理\n",
    "（只取训练集和测试集中出现的用户ID）\n",
    "\n",
    "数据来源于Kaggle竞赛：Event Recommendation Engine Challenge，根据\n",
    "events they’ve responded to in the past\n",
    "user demographic information\n",
    "what events they’ve seen and clicked on in our app\n",
    "用户对某个活动是否感兴趣\n",
    "\n",
    "竞赛官网：\n",
    "https://www.kaggle.com/c/event-recommendation-engine-challenge/data\n",
    "\n",
    "用户描述信息在users.csv文件：共7维特征\n",
    "user_id\n",
    "locale：地区，语言\n",
    "birthyear：出身年\n",
    "gender：性别\n",
    "joinedAt：用户加入APP的时间，ISO-8601 UTC time\n",
    "location：地点\n",
    "timezone：时区"
   ]
  },
  {
   "cell_type": "markdown",
   "metadata": {},
   "source": [
    "# 导入工具包"
   ]
  },
  {
   "cell_type": "code",
   "execution_count": 1,
   "metadata": {},
   "outputs": [],
   "source": [
    "import pandas as pd\n",
    "\n",
    "import numpy as np\n",
    "import scipy.sparse as ss\n",
    "import scipy.io as sio\n",
    "\n",
    "#保存数据\n",
    "import pickle\n",
    "\n",
    "#event的特征需要编码\n",
    "from utils import FeatureEng\n",
    "from sklearn.preprocessing import normalize\n",
    "#相似度/距离\n",
    "import scipy.spatial.distance as ssd"
   ]
  },
  {
   "cell_type": "markdown",
   "metadata": {},
   "source": [
    "总的用户数目超过训练集和测试集中的用户，\n",
    "为节省处理时间和内存，先去处理train和test，得到竞赛需要用到的事件和用户\n",
    "然后对在训练集和测试集中出现过的事件和用户建立新的ID索引\n",
    "先运行user_event.ipynb,\n",
    "得到事件列表文件：PE_userIndex.pkl"
   ]
  },
  {
   "cell_type": "markdown",
   "metadata": {},
   "source": [
    "# 读取之前算好的测试集和训练集中出现过的用户"
   ]
  },
  {
   "cell_type": "code",
   "execution_count": 2,
   "metadata": {},
   "outputs": [
    {
     "name": "stdout",
     "output_type": "stream",
     "text": [
      "number of users in train & test :3391\n"
     ]
    }
   ],
   "source": [
    "#读取训练集和测试集中出现过的用户列表\n",
    "userIndex = pickle.load(open(\"PE_userIndex.pkl\", 'rb'))\n",
    "n_users = len(userIndex)\n",
    "\n",
    "print(\"number of users in train & test :%d\" % n_users)"
   ]
  },
  {
   "cell_type": "markdown",
   "metadata": {},
   "source": [
    "# 处理users.csv --> 特征编码、用户之间的相似度"
   ]
  },
  {
   "cell_type": "code",
   "execution_count": 3,
   "metadata": {
    "scrolled": false
   },
   "outputs": [
    {
     "data": {
      "text/html": [
       "<div>\n",
       "<style scoped>\n",
       "    .dataframe tbody tr th:only-of-type {\n",
       "        vertical-align: middle;\n",
       "    }\n",
       "\n",
       "    .dataframe tbody tr th {\n",
       "        vertical-align: top;\n",
       "    }\n",
       "\n",
       "    .dataframe thead th {\n",
       "        text-align: right;\n",
       "    }\n",
       "</style>\n",
       "<table border=\"1\" class=\"dataframe\">\n",
       "  <thead>\n",
       "    <tr style=\"text-align: right;\">\n",
       "      <th></th>\n",
       "      <th>user_id</th>\n",
       "      <th>locale</th>\n",
       "      <th>birthyear</th>\n",
       "      <th>gender</th>\n",
       "      <th>joinedAt</th>\n",
       "      <th>location</th>\n",
       "      <th>timezone</th>\n",
       "    </tr>\n",
       "  </thead>\n",
       "  <tbody>\n",
       "    <tr>\n",
       "      <th>0</th>\n",
       "      <td>3197468391</td>\n",
       "      <td>id_ID</td>\n",
       "      <td>1993</td>\n",
       "      <td>male</td>\n",
       "      <td>2012-10-02T06:40:55.524Z</td>\n",
       "      <td>Medan  Indonesia</td>\n",
       "      <td>480.0</td>\n",
       "    </tr>\n",
       "    <tr>\n",
       "      <th>1</th>\n",
       "      <td>3537982273</td>\n",
       "      <td>id_ID</td>\n",
       "      <td>1992</td>\n",
       "      <td>male</td>\n",
       "      <td>2012-09-29T18:03:12.111Z</td>\n",
       "      <td>Medan  Indonesia</td>\n",
       "      <td>420.0</td>\n",
       "    </tr>\n",
       "    <tr>\n",
       "      <th>2</th>\n",
       "      <td>823183725</td>\n",
       "      <td>en_US</td>\n",
       "      <td>1975</td>\n",
       "      <td>male</td>\n",
       "      <td>2012-10-06T03:14:07.149Z</td>\n",
       "      <td>Stratford  Ontario</td>\n",
       "      <td>-240.0</td>\n",
       "    </tr>\n",
       "    <tr>\n",
       "      <th>3</th>\n",
       "      <td>1872223848</td>\n",
       "      <td>en_US</td>\n",
       "      <td>1991</td>\n",
       "      <td>female</td>\n",
       "      <td>2012-11-04T08:59:43.783Z</td>\n",
       "      <td>Tehran  Iran</td>\n",
       "      <td>210.0</td>\n",
       "    </tr>\n",
       "    <tr>\n",
       "      <th>4</th>\n",
       "      <td>3429017717</td>\n",
       "      <td>id_ID</td>\n",
       "      <td>1995</td>\n",
       "      <td>female</td>\n",
       "      <td>2012-09-10T16:06:53.132Z</td>\n",
       "      <td>NaN</td>\n",
       "      <td>420.0</td>\n",
       "    </tr>\n",
       "  </tbody>\n",
       "</table>\n",
       "</div>"
      ],
      "text/plain": [
       "      user_id locale birthyear  gender                  joinedAt  \\\n",
       "0  3197468391  id_ID      1993    male  2012-10-02T06:40:55.524Z   \n",
       "1  3537982273  id_ID      1992    male  2012-09-29T18:03:12.111Z   \n",
       "2   823183725  en_US      1975    male  2012-10-06T03:14:07.149Z   \n",
       "3  1872223848  en_US      1991  female  2012-11-04T08:59:43.783Z   \n",
       "4  3429017717  id_ID      1995  female  2012-09-10T16:06:53.132Z   \n",
       "\n",
       "             location  timezone  \n",
       "0    Medan  Indonesia     480.0  \n",
       "1    Medan  Indonesia     420.0  \n",
       "2  Stratford  Ontario    -240.0  \n",
       "3        Tehran  Iran     210.0  \n",
       "4                 NaN     420.0  "
      ]
     },
     "execution_count": 3,
     "metadata": {},
     "output_type": "execute_result"
    }
   ],
   "source": [
    "#读取数据\n",
    "users = pd.read_csv(\"users.csv\")\n",
    "users.head()"
   ]
  },
  {
   "cell_type": "code",
   "execution_count": 4,
   "metadata": {
    "scrolled": true
   },
   "outputs": [
    {
     "name": "stdout",
     "output_type": "stream",
     "text": [
      "<class 'pandas.core.frame.DataFrame'>\n",
      "RangeIndex: 38209 entries, 0 to 38208\n",
      "Data columns (total 7 columns):\n",
      "user_id      38209 non-null int64\n",
      "locale       38209 non-null object\n",
      "birthyear    38209 non-null object\n",
      "gender       38100 non-null object\n",
      "joinedAt     38152 non-null object\n",
      "location     32745 non-null object\n",
      "timezone     37773 non-null float64\n",
      "dtypes: float64(1), int64(1), object(5)\n",
      "memory usage: 2.0+ MB\n"
     ]
    }
   ],
   "source": [
    "users.info()"
   ]
  },
  {
   "cell_type": "code",
   "execution_count": 6,
   "metadata": {},
   "outputs": [],
   "source": [
    "FE = FeatureEng()\n",
    "\n",
    "#locale\tbirthyear\tgender\tjoinedAt\tlocation\ttimezone\n",
    "#去掉user_id列\n",
    "n_cols = users.shape[1] - 1\n",
    "cols = ['LocaleId', 'BirthYearInt', 'GenderId', 'JoinedYearMonth', 'CountryId', 'TimezoneInt']\n",
    "\n",
    "#users编码后的特征\n",
    "#userMatrix = np.zeros((n_users, n_cols), dtype=np.int)\n",
    "userMatrix = ss.dok_matrix((n_users, n_cols))\n",
    "\n",
    "for u in range(users.shape[0]): \n",
    "    userId = str(users.loc[u,'user_id'])\n",
    "    \n",
    "    #if userIndex.has_key(userId):  #在训练集或测试集中出现\n",
    "    if userId in userIndex:\n",
    "        i = userIndex[userId]\n",
    "    \n",
    "        userMatrix[i, 0] = FE.getLocaleId(users.loc[u,'locale'])\n",
    "        userMatrix[i, 1] = FE.getBirthYearInt(users.loc[u,'birthyear'])\n",
    "        userMatrix[i, 2] = FE.getGenderId(users.loc[u,'gender'])\n",
    "        userMatrix[i, 3] = FE.getJoinedYearMonth(users.loc[u,'joinedAt'])\n",
    "        \n",
    "        #由于地点的写法不规范，该编码似乎不起作用（所有样本的特征都被编码成0了）\n",
    "        userMatrix[i, 4] = FE.getCountryId(users.loc[u,'location'])\n",
    "        \n",
    "        userMatrix[i, 5] = FE.getTimezoneInt(users.loc[u,'timezone'])\n",
    "\n",
    "# 归一化用户矩阵\n",
    "userMatrix = normalize(userMatrix, norm=\"l2\", axis=0, copy=False)\n",
    "sio.mmwrite(\"US_userMatrix\", userMatrix)\n",
    "\n",
    "\n",
    "# 计算用户相似度矩阵，之后用户推荐系统\n",
    "userSimMatrix = ss.dok_matrix((n_users, n_users))\n",
    "\n",
    "#读取在测试集和训练集中出现的用户对\n",
    "uniqueUserPairs = pickle.load(open(\"FE_uniqueUserPairs.pkl\", 'rb'))\n",
    "\n",
    "#对角线元素\n",
    "for i in range(0, n_users):\n",
    "    userSimMatrix[i, i] = 1.0\n",
    "    \n",
    "#对称\n",
    "for u1, u2 in uniqueUserPairs:\n",
    "    #i = userIndex[u1]\n",
    "    #j = userIndex[u2]\n",
    "    i = u1\n",
    "    j = u2\n",
    "    if not (i, j) in userSimMatrix:\n",
    "        #Person相关系数做为相似度度量\n",
    "        #特征：国家（locale、location）、年龄、性别、时区、地点\n",
    "        #usim = ssd.correlation(userMatrix[i,:],\n",
    "            #userMatrix[j,:])\n",
    "    \n",
    "        usim = ssd.correlation(userMatrix.getrow(i).todense(),\n",
    "          userMatrix.getrow(j).todense())\n",
    "        userSimMatrix[i, j] = usim\n",
    "        userSimMatrix[j, i] = usim\n",
    "    \n",
    "sio.mmwrite(\"US_userSimMatrix\", userSimMatrix)"
   ]
  },
  {
   "cell_type": "code",
   "execution_count": 7,
   "metadata": {},
   "outputs": [
    {
     "name": "stdout",
     "output_type": "stream",
     "text": [
      "125781176\n"
     ]
    }
   ],
   "source": [
    "print(userId)"
   ]
  },
  {
   "cell_type": "code",
   "execution_count": 9,
   "metadata": {
    "scrolled": true
   },
   "outputs": [
    {
     "name": "stdout",
     "output_type": "stream",
     "text": [
      "  (230, 0)\t0.021628856085564065\n",
      "  (3139, 0)\t0.011957416372506963\n",
      "  (123, 0)\t0.021628856085564065\n",
      "  (1599, 0)\t0.014243393031956823\n",
      "  (2739, 0)\t0.021628856085564065\n",
      "  (816, 0)\t0.011957416372506963\n",
      "  (2351, 0)\t0.021628856085564065\n",
      "  (1016, 0)\t0.011957416372506963\n",
      "  (2944, 0)\t0.017144824945873955\n",
      "  (1364, 0)\t0.021628856085564065\n",
      "  (335, 0)\t0.021628856085564065\n",
      "  (1135, 0)\t0.011957416372506963\n",
      "  (881, 0)\t0.021628856085564065\n",
      "  (1590, 0)\t0.005451175110995821\n",
      "  (542, 0)\t0.011166116759620473\n",
      "  (560, 0)\t0.011957416372506963\n",
      "  (2907, 0)\t0.021628856085564065\n",
      "  (3213, 0)\t0.011957416372506963\n",
      "  (98, 0)\t0.021628856085564065\n",
      "  (1065, 0)\t0.025585354149996516\n",
      "  (1915, 0)\t0.011957416372506963\n",
      "  (1563, 0)\t0.011957416372506963\n",
      "  (922, 0)\t0.021628856085564065\n",
      "  (852, 0)\t0.021628856085564065\n",
      "  (2290, 0)\t0.021628856085564065\n",
      "  :\t:\n",
      "  (2713, 5)\t-0.01303142053748795\n",
      "  (978, 5)\t0.020850272859980718\n",
      "  (3054, 5)\t0.010425136429990359\n",
      "  (326, 5)\t0.014334562591236744\n",
      "  (1539, 5)\t0.01824398875248313\n",
      "  (2884, 5)\t0.010425136429990359\n",
      "  (2107, 5)\t0.01824398875248313\n",
      "  (1228, 5)\t-0.020850272859980718\n",
      "  (2561, 5)\t0.01824398875248313\n",
      "  (443, 5)\t0.01824398875248313\n",
      "  (2021, 5)\t0.01824398875248313\n",
      "  (666, 5)\t0.01824398875248313\n",
      "  (1434, 5)\t0.0052125682149951795\n",
      "  (1146, 5)\t0.01824398875248313\n",
      "  (2984, 5)\t0.01824398875248313\n",
      "  (3375, 5)\t0.014334562591236744\n",
      "  (3090, 5)\t0.01824398875248313\n",
      "  (1393, 5)\t0.010425136429990359\n",
      "  (1602, 5)\t0.014334562591236744\n",
      "  (32, 5)\t0.02345655696747831\n",
      "  (2987, 5)\t0.01824398875248313\n",
      "  (1899, 5)\t0.01824398875248313\n",
      "  (1820, 5)\t0.01824398875248313\n",
      "  (463, 5)\t0.01824398875248313\n",
      "  (792, 5)\t0.01824398875248313\n",
      "<class 'scipy.sparse.csc.csc_matrix'>\n"
     ]
    }
   ],
   "source": [
    "print(userMatrix)\n",
    "print(type(userMatrix))"
   ]
  },
  {
   "cell_type": "code",
   "execution_count": 10,
   "metadata": {},
   "outputs": [
    {
     "name": "stdout",
     "output_type": "stream",
     "text": [
      "2630 1518\n"
     ]
    }
   ],
   "source": [
    "print(u1,u2)"
   ]
  },
  {
   "cell_type": "code",
   "execution_count": 11,
   "metadata": {},
   "outputs": [
    {
     "name": "stdout",
     "output_type": "stream",
     "text": [
      "  (0, 0)\t1.0\n",
      "  (1, 1)\t1.0\n",
      "  (2, 2)\t1.0\n",
      "  (3, 3)\t1.0\n",
      "  (4, 4)\t1.0\n",
      "  (5, 5)\t1.0\n",
      "  (6, 6)\t1.0\n",
      "  (7, 7)\t1.0\n",
      "  (8, 8)\t1.0\n",
      "  (9, 9)\t1.0\n",
      "  (10, 10)\t1.0\n",
      "  (11, 11)\t1.0\n",
      "  (12, 12)\t1.0\n",
      "  (13, 13)\t1.0\n",
      "  (14, 14)\t1.0\n",
      "  (15, 15)\t1.0\n",
      "  (16, 16)\t1.0\n",
      "  (17, 17)\t1.0\n",
      "  (18, 18)\t1.0\n",
      "  (19, 19)\t1.0\n",
      "  (20, 20)\t1.0\n",
      "  (21, 21)\t1.0\n",
      "  (22, 22)\t1.0\n",
      "  (23, 23)\t1.0\n",
      "  (24, 24)\t1.0\n",
      "  :\t:\n",
      "  (2708, 34)\t0.7551414085441245\n",
      "  (2654, 317)\t0.6285572330561726\n",
      "  (317, 2654)\t0.6285572330561726\n",
      "  (3258, 988)\t7.902592221387117e-06\n",
      "  (988, 3258)\t7.902592221387117e-06\n",
      "  (2583, 2071)\t0.754535687381116\n",
      "  (2071, 2583)\t0.754535687381116\n",
      "  (2656, 1958)\t0.3624753727294502\n",
      "  (1958, 2656)\t0.3624753727294502\n",
      "  (896, 75)\t0.17879821780629457\n",
      "  (75, 896)\t0.17879821780629457\n",
      "  (1567, 2477)\t1.3678021035152539\n",
      "  (2477, 1567)\t1.3678021035152539\n",
      "  (2661, 1231)\t0.7339724865689136\n",
      "  (1231, 2661)\t0.7339724865689136\n",
      "  (2382, 992)\t0.7615419131985823\n",
      "  (992, 2382)\t0.7615419131985823\n",
      "  (2347, 815)\t5.054317115726903e-06\n",
      "  (815, 2347)\t5.054317115726903e-06\n",
      "  (1414, 2609)\t0.7564907215259604\n",
      "  (2609, 1414)\t0.7564907215259604\n",
      "  (1160, 3024)\t0.7537390983224282\n",
      "  (3024, 1160)\t0.7537390983224282\n",
      "  (2630, 1518)\t0.49900039262947093\n",
      "  (1518, 2630)\t0.49900039262947093\n"
     ]
    }
   ],
   "source": [
    "print(userSimMatrix)"
   ]
  },
  {
   "cell_type": "code",
   "execution_count": null,
   "metadata": {},
   "outputs": [],
   "source": []
  }
 ],
 "metadata": {
  "kernelspec": {
   "display_name": "Python 3",
   "language": "python",
   "name": "python3"
  },
  "language_info": {
   "codemirror_mode": {
    "name": "ipython",
    "version": 3
   },
   "file_extension": ".py",
   "mimetype": "text/x-python",
   "name": "python",
   "nbconvert_exporter": "python",
   "pygments_lexer": "ipython3",
   "version": "3.6.5"
  }
 },
 "nbformat": 4,
 "nbformat_minor": 2
}
